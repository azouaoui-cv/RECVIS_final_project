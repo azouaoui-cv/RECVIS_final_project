{
 "cells": [
  {
   "cell_type": "markdown",
   "metadata": {},
   "source": [
    "# Splits Investigation\n",
    "\n",
    "* In this notebook I take a closer look on the splits on which the NBT model is evaluated using Flickr30k data"
   ]
  },
  {
   "cell_type": "markdown",
   "metadata": {},
   "source": [
    "## Imports"
   ]
  },
  {
   "cell_type": "code",
   "execution_count": 2,
   "metadata": {},
   "outputs": [],
   "source": [
    "import json\n",
    "import os"
   ]
  },
  {
   "cell_type": "code",
   "execution_count": 3,
   "metadata": {},
   "outputs": [
    {
     "data": {
      "text/plain": [
       "'/home/inzouzouwetrust/MVA/Cours_S1/RECVIS/RECVIS_final_project'"
      ]
     },
     "execution_count": 3,
     "metadata": {},
     "output_type": "execute_result"
    }
   ],
   "source": [
    "CWD = os.getcwd()\n",
    "CWD"
   ]
  },
  {
   "cell_type": "code",
   "execution_count": 7,
   "metadata": {},
   "outputs": [
    {
     "name": "stdout",
     "output_type": "stream",
     "text": [
      "There are 1000 images in the evaluation split\n"
     ]
    }
   ],
   "source": [
    "IMG_PATH = os.path.join(CWD, \"visu\")\n",
    "images = [filename for filename in os.listdir(IMG_PATH) if filename.endswith(\".jpg\")]\n",
    "print(\"There are %d images in the evaluation split\" % len(images))"
   ]
  },
  {
   "cell_type": "code",
   "execution_count": 8,
   "metadata": {},
   "outputs": [],
   "source": [
    "dataset_filename = os.path.join(CWD, \"NBT\", \"data\", \"flickr30k\", \"dataset_flickr30k.json\")\n",
    "with open(dataset_filename, \"r\") as f:\n",
    "    dataset = json.load(f, encoding=\"utf-8\")"
   ]
  },
  {
   "cell_type": "code",
   "execution_count": 10,
   "metadata": {},
   "outputs": [
    {
     "data": {
      "text/plain": [
       "{u'test': 1000}"
      ]
     },
     "execution_count": 10,
     "metadata": {},
     "output_type": "execute_result"
    }
   ],
   "source": [
    "splits = {}\n",
    "\n",
    "for img in dataset[\"images\"]:\n",
    "    if img[\"filename\"] in images:\n",
    "        if splits.get(img[\"split\"]):\n",
    "            splits[img[\"split\"]] += 1\n",
    "        else:\n",
    "            splits[img[\"split\"]] = 1\n",
    "            \n",
    "splits"
   ]
  },
  {
   "cell_type": "markdown",
   "metadata": {},
   "source": [
    "**Comment:**\n",
    "\n",
    "This confirms that only the images from the testing set are used in the evaluation step.\n",
    "\n",
    "We must confirm that during the training, only the validation images are used and none of the testing set."
   ]
  }
 ],
 "metadata": {
  "kernelspec": {
   "display_name": "recvisp2",
   "language": "python",
   "name": "recvisp2"
  },
  "language_info": {
   "codemirror_mode": {
    "name": "ipython",
    "version": 2
   },
   "file_extension": ".py",
   "mimetype": "text/x-python",
   "name": "python",
   "nbconvert_exporter": "python",
   "pygments_lexer": "ipython2",
   "version": "2.7.15"
  }
 },
 "nbformat": 4,
 "nbformat_minor": 2
}
