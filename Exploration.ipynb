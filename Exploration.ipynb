{
 "cells": [
  {
   "cell_type": "markdown",
   "metadata": {},
   "source": [
    "# Exploration\n",
    "\n",
    "* This notebook seeks to explore NBT current implementation to determine where changes are needed to use a different dataset such as UnRel."
   ]
  },
  {
   "cell_type": "markdown",
   "metadata": {},
   "source": [
    "## Imports"
   ]
  },
  {
   "cell_type": "code",
   "execution_count": 1,
   "metadata": {},
   "outputs": [],
   "source": [
    "import h5py\n",
    "import os\n",
    "import numpy as np"
   ]
  },
  {
   "cell_type": "code",
   "execution_count": 2,
   "metadata": {},
   "outputs": [
    {
     "data": {
      "text/plain": [
       "'/home/inzouzouwetrust/MVA/Cours_S1/RECVIS/RECVIS_final_project'"
      ]
     },
     "execution_count": 2,
     "metadata": {},
     "output_type": "execute_result"
    }
   ],
   "source": [
    "CWD = os.getcwd()\n",
    "CWD"
   ]
  },
  {
   "cell_type": "markdown",
   "metadata": {},
   "source": [
    "## COCO proposals"
   ]
  },
  {
   "cell_type": "code",
   "execution_count": 22,
   "metadata": {},
   "outputs": [
    {
     "data": {
      "text/plain": [
       "'/home/inzouzouwetrust/MVA/Cours_S1/RECVIS/RECVIS_final_project/NBT/data/coco/coco_detection.h5'"
      ]
     },
     "execution_count": 22,
     "metadata": {},
     "output_type": "execute_result"
    }
   ],
   "source": [
    "proposals_path = os.path.join(CWD, \"NBT\", \"data\", \"coco\", \"coco_detection.h5\")\n",
    "proposals_path"
   ]
  },
  {
   "cell_type": "code",
   "execution_count": 23,
   "metadata": {},
   "outputs": [
    {
     "name": "stdout",
     "output_type": "stream",
     "text": [
      "[u'dets_labels', u'dets_num', u'nms_num']\n"
     ]
    }
   ],
   "source": [
    "with h5py.File(proposals_path, \"r\", driver=\"core\") as f:\n",
    "    keys = f.keys()\n",
    "    \n",
    "print(keys)"
   ]
  },
  {
   "cell_type": "code",
   "execution_count": 24,
   "metadata": {},
   "outputs": [
    {
     "name": "stdout",
     "output_type": "stream",
     "text": [
      "There are 123287 different proposals\n"
     ]
    }
   ],
   "source": [
    "with h5py.File(proposals_path, \"r\", driver=\"core\") as f:\n",
    "    num_proposals = f[\"dets_num\"][:]\n",
    "    label_proposals = f[\"dets_labels\"][:]\n",
    "    num_nms = f[\"nms_num\"][:]\n",
    "    \n",
    "print(\"There are %d different proposals\" % len(num_proposals))"
   ]
  },
  {
   "cell_type": "code",
   "execution_count": 26,
   "metadata": {},
   "outputs": [
    {
     "data": {
      "text/plain": [
       "(array([ 36.,  37.,  38.,  39.,  40.,  41.,  42.,  43.,  44.,  45.,  46.,\n",
       "         47.,  48.,  49.,  50.,  51.,  52.,  53.,  54.,  55.,  56.,  57.,\n",
       "         58.,  59.,  60.,  61.,  62.,  63.,  64.,  65.,  66.,  67.,  68.,\n",
       "         69.,  70.,  72.,  73.,  74.,  76.,  79.,  81.,  83.,  84.,  93.,\n",
       "        100.]),\n",
       " array([122239,    141,    102,    104,     93,     78,     72,     51,\n",
       "            52,     43,     28,     33,     29,     28,     23,     21,\n",
       "            14,     12,     15,     15,     13,      9,      7,     12,\n",
       "             3,      8,      4,      4,      2,      3,      3,      7,\n",
       "             1,      1,      1,      4,      1,      1,      2,      1,\n",
       "             1,      1,      1,      1,      3]))"
      ]
     },
     "execution_count": 26,
     "metadata": {},
     "output_type": "execute_result"
    }
   ],
   "source": [
    "np.unique(num_proposals, return_counts=True)"
   ]
  },
  {
   "cell_type": "markdown",
   "metadata": {},
   "source": [
    "On the ``COCO`` dataset, the number of proposals can vary, the majority being 36 like ``Flickr30k``."
   ]
  },
  {
   "cell_type": "code",
   "execution_count": 27,
   "metadata": {},
   "outputs": [
    {
     "data": {
      "text/plain": [
       "(123287, 100, 6)"
      ]
     },
     "execution_count": 27,
     "metadata": {},
     "output_type": "execute_result"
    }
   ],
   "source": [
    "label_proposals.shape"
   ]
  },
  {
   "cell_type": "markdown",
   "metadata": {},
   "source": [
    "**Comment:**\n",
    "This shape from ``label_proposals`` do not make sense to me. I would expect the boxes to be of shape 4 (``top_corner_x``, ``top_corner_y``, ``width`` and ``height``)"
   ]
  },
  {
   "cell_type": "code",
   "execution_count": 28,
   "metadata": {},
   "outputs": [
    {
     "data": {
      "text/plain": [
       "(123287,)"
      ]
     },
     "execution_count": 28,
     "metadata": {},
     "output_type": "execute_result"
    }
   ],
   "source": [
    "num_nms.shape"
   ]
  },
  {
   "cell_type": "code",
   "execution_count": 29,
   "metadata": {},
   "outputs": [
    {
     "data": {
      "text/plain": [
       "(array([  0.,   1.,   2.,   3.,   4.,   5.,   6.,   7.,   8.,   9.,  10.,\n",
       "         11.,  12.,  13.,  14.,  15.,  16.,  17.,  18.,  19.,  20.,  21.,\n",
       "         22.,  23.,  24.,  25.,  26.,  27.,  28.,  29.,  30.,  31.,  32.,\n",
       "         33.,  34.,  35.,  36.,  37.,  38.,  39.,  40.,  41.,  42.,  43.,\n",
       "         44.,  45.,  46.,  47.,  48.,  49.,  50.,  51.,  52.,  53.,  54.,\n",
       "         55.,  56.,  57.,  58.,  59.,  60.,  61.,  62.,  63.,  64.,  65.,\n",
       "         66.,  67.,  68.,  69.,  70.,  72.,  73.,  74.,  76.,  79.,  81.,\n",
       "         83.,  84.,  93., 100.]),\n",
       " array([  459,  8990, 16161, 14765, 12016,  9969,  8299,  6852,  5832,\n",
       "         5053,  4320,  3792,  3174,  2760,  2411,  2193,  1922,  1602,\n",
       "         1455,  1314,  1171,  1095,   926,   792,   696,   619,   550,\n",
       "          491,   415,   383,   390,   315,   255,   234,   208,   198,\n",
       "          162,   141,   102,   104,    93,    78,    72,    51,    52,\n",
       "           43,    28,    33,    29,    28,    23,    21,    14,    12,\n",
       "           15,    15,    13,     9,     7,    12,     3,     8,     4,\n",
       "            4,     2,     3,     3,     7,     1,     1,     1,     4,\n",
       "            1,     1,     2,     1,     1,     1,     1,     1,     3]))"
      ]
     },
     "execution_count": 29,
     "metadata": {},
     "output_type": "execute_result"
    }
   ],
   "source": [
    "np.unique(num_nms, return_counts=True)"
   ]
  },
  {
   "cell_type": "markdown",
   "metadata": {},
   "source": [
    "**Comment:**\n",
    "\n",
    "* There is a much broader use of the proposals on COCO it seems."
   ]
  },
  {
   "cell_type": "markdown",
   "metadata": {},
   "source": [
    "## Proposal h5 files on Flickr30k"
   ]
  },
  {
   "cell_type": "code",
   "execution_count": 3,
   "metadata": {},
   "outputs": [
    {
     "data": {
      "text/plain": [
       "'/home/inzouzouwetrust/MVA/Cours_S1/RECVIS/RECVIS_final_project/NBT/data/flickr30k/flickr30k_detection.h5'"
      ]
     },
     "execution_count": 3,
     "metadata": {},
     "output_type": "execute_result"
    }
   ],
   "source": [
    "proposals_path = os.path.join(CWD, \"NBT\", \"data\", \"flickr30k\", \"flickr30k_detection.h5\")\n",
    "proposals_path"
   ]
  },
  {
   "cell_type": "code",
   "execution_count": 4,
   "metadata": {},
   "outputs": [
    {
     "name": "stdout",
     "output_type": "stream",
     "text": [
      "[u'dets_labels', u'dets_num', u'nms_num']\n"
     ]
    }
   ],
   "source": [
    "with h5py.File(proposals_path, \"r\", driver=\"core\") as f:\n",
    "    keys = f.keys()\n",
    "    \n",
    "print(keys)"
   ]
  },
  {
   "cell_type": "code",
   "execution_count": 5,
   "metadata": {},
   "outputs": [
    {
     "name": "stdout",
     "output_type": "stream",
     "text": [
      "There are 31783 different proposals\n"
     ]
    }
   ],
   "source": [
    "with h5py.File(proposals_path, \"r\", driver=\"core\") as f:\n",
    "    num_proposals = f[\"dets_num\"][:]\n",
    "    label_proposals = f[\"dets_labels\"][:]\n",
    "    num_nms = f[\"nms_num\"][:]\n",
    "    \n",
    "print(\"There are %d different proposals\" % len(num_proposals))"
   ]
  },
  {
   "cell_type": "code",
   "execution_count": 33,
   "metadata": {},
   "outputs": [
    {
     "data": {
      "text/plain": [
       "array([36.])"
      ]
     },
     "execution_count": 33,
     "metadata": {},
     "output_type": "execute_result"
    }
   ],
   "source": [
    "np.unique(num_proposals)"
   ]
  },
  {
   "cell_type": "markdown",
   "metadata": {},
   "source": [
    "There are 36 proposals per image."
   ]
  },
  {
   "cell_type": "code",
   "execution_count": 34,
   "metadata": {},
   "outputs": [
    {
     "data": {
      "text/plain": [
       "(31783, 100, 6)"
      ]
     },
     "execution_count": 34,
     "metadata": {},
     "output_type": "execute_result"
    }
   ],
   "source": [
    "label_proposals.shape"
   ]
  },
  {
   "cell_type": "code",
   "execution_count": 6,
   "metadata": {},
   "outputs": [
    {
     "data": {
      "text/plain": [
       "(array([  0.,   1.,   2.,   3.,   4.,   5.,   6.,   7.,   8.,   9.,  10.,\n",
       "         11.,  12.,  13.,  14.,  15.,  16.,  17.,  18.,  19.,  21.,  22.,\n",
       "         23.,  24.,  25.,  26.,  27.,  28.,  29.,  30.,  31.,  32.,  33.,\n",
       "         35.,  36.,  37.,  38.,  39.,  40.,  41.,  42.,  43.,  44.,  45.,\n",
       "         46.,  47.,  48.,  49.,  50.,  52.,  54.,  55.,  56.,  57.,  58.,\n",
       "         59.,  60.,  61.,  62.,  63.,  64.,  65.,  66.,  67.,  68.,  69.,\n",
       "         70.,  72.,  73.,  74.,  75.,  76.,  77.,  78.,  79.,  80.,  81.,\n",
       "         82.,  83.,  84.,  85.,  86.,  87.,  88.,  89.,  90.,  91.,  92.,\n",
       "         93.,  94.,  95.,  96.,  97.,  98.,  99., 100., 101., 103., 104.,\n",
       "        105., 106., 107., 108., 109., 110., 111., 112., 113., 114., 115.,\n",
       "        116., 117., 118., 119., 120., 121., 122., 123., 124., 125., 126.,\n",
       "        127., 128., 129., 131., 132., 133., 134., 135., 136., 137., 138.,\n",
       "        139., 140., 141., 142., 144., 145., 146., 147., 148., 149., 150.,\n",
       "        151., 152., 153., 154., 156., 157., 158., 159., 160., 161., 162.,\n",
       "        163., 164., 166., 167., 168., 169., 170., 172., 173., 174., 175.,\n",
       "        176., 177., 178., 179., 180., 181., 182., 183., 184., 185., 186.,\n",
       "        187., 188., 189., 190., 191., 192., 193., 194., 195., 196., 197.,\n",
       "        198., 199., 200., 201., 202., 203., 204., 205., 206., 207., 208.,\n",
       "        209., 210., 211., 212., 213., 214., 215., 216., 217., 218., 219.,\n",
       "        220., 221., 222., 223., 224., 225., 226., 227., 228., 229., 230.,\n",
       "        231., 232., 233., 234., 235., 236., 237., 238., 239., 240., 241.,\n",
       "        242., 243., 244., 245., 246., 247., 248., 249., 250., 251., 252.,\n",
       "        253., 254., 255., 256., 257., 258., 259., 260., 261., 262., 263.,\n",
       "        264., 265., 266., 267., 268., 270., 271., 272., 273., 274., 275.,\n",
       "        276., 277., 278., 279., 280., 281., 282., 283., 284., 285., 286.,\n",
       "        287., 288., 289., 290., 291., 292., 293., 294., 295., 296., 297.,\n",
       "        298., 299., 300., 301., 302., 303., 304., 305., 306., 307., 308.,\n",
       "        309., 310., 311., 312., 313., 314., 316., 317., 318., 319., 320.,\n",
       "        321., 322., 323., 324., 325., 326., 327., 328., 329., 330., 331.,\n",
       "        332., 333., 334., 335., 336., 337., 338., 339., 340., 341., 342.,\n",
       "        343., 344., 345., 346., 347., 350., 351., 352., 353., 354., 355.,\n",
       "        356., 357., 358., 359., 360., 361., 362., 364., 365., 366., 367.,\n",
       "        368., 369., 370., 371., 372., 373., 374., 375., 376., 377., 378.,\n",
       "        379., 380., 381., 383., 384., 385., 386., 387., 388., 389., 390.,\n",
       "        391., 392., 393., 394., 395., 396., 397., 398., 399., 400., 401.,\n",
       "        402., 403., 404., 405., 406., 407., 408., 409., 410., 411., 412.,\n",
       "        413., 414., 415., 416., 417., 418., 419., 420., 421., 422., 423.,\n",
       "        424., 425., 426., 427., 428., 429., 430., 431., 432., 434., 435.,\n",
       "        436., 437., 438., 439., 440., 441., 442., 443., 444., 445., 446.,\n",
       "        447., 448., 449., 450., 451., 452., 453., 454., 455., 456., 457.,\n",
       "        458., 459., 460., 461., 462., 463., 464., 465., 466., 467., 468.,\n",
       "        469., 470., 471., 472., 473., 474., 475., 476., 477., 478., 479.,\n",
       "        480.]),\n",
       " array([2034112,     962,       3,      79,     262,    5131,     422,\n",
       "           3532,     159,    2677,     392,     250,   24780,     522,\n",
       "            226,      21,     548,    5387,      77,     786,     475,\n",
       "            249,     124,    2306,   16705,    8196,     416,     224,\n",
       "          15478,      12,    6184,   45501,     293,     372,     422,\n",
       "             14,    7450,    7161,    2543,    6869,    1945,     314,\n",
       "           2434,     214,     981,     328,    1153,     139,      49,\n",
       "            559,     790,    4514,     645,     339,    1016,     231,\n",
       "           2404,     631,     257,     237,     268,      96,       3,\n",
       "             76,     991,     552,    3659,    7597,     995,     186,\n",
       "            115,    1928,     230,     802,      22,     271,     608,\n",
       "            105,     198,     122,     608,    1021,     134,    5903,\n",
       "           1127,     302,     528,    3879,     257,     352,     983,\n",
       "            237,     166,      46,    1251,    4299,    2028,     101,\n",
       "           1129,    2782,     773,     202,     922,    2162,    8276,\n",
       "            156,    7523,     359,     460,     753,    2168,     234,\n",
       "           1327,    1877,     423,    4067,    2214,      58,    1446,\n",
       "            254,    5548,     248,    5412,    1687,    1786,       4,\n",
       "           5987,     840,     556,     136,    2174,     162,     482,\n",
       "            854,     369,     187,    1272,     347,     584,    1053,\n",
       "            840,   16054,     597,    1721,     871,   11410,    7206,\n",
       "            308,     434,     418,    8618,    1812,     276,    1010,\n",
       "            289,      13,    6605,    3287,      18,     497,     200,\n",
       "           2243,     234,      50,    1430,   11077,     804,     600,\n",
       "            436,     670,      20,      74,    1059,     365,    1750,\n",
       "          25142,     186,    1003,    7600,     960,     223,       9,\n",
       "            909,     438,    4917,    1655,    2847,     173,    3410,\n",
       "            266,     227,     754,     921,    3062,     508,    1938,\n",
       "            663,     393,     778,     330,     861,    3502,     620,\n",
       "           1410,     470,    2117,    1524,     529,      42,     534,\n",
       "           2077,     175,    1565,      51,    1268,     978,     663,\n",
       "            860,    1457,       5,    2045,       4,     835,     160,\n",
       "            436,     158,     331,     259,     965,    1162,     207,\n",
       "             50,    3076,    1360,     113,     420,       6,     477,\n",
       "            246,      15,     541,      99,     168,   22625,     398,\n",
       "           1317,    5894,     562,     668,     664,    1065,     257,\n",
       "             61,     232,     578,      74,     244,   18252,    1205,\n",
       "            119,    1616,   22825,     352,     626,      72,      42,\n",
       "            757,  114994,    7216,   15976,     322,     255,    3573,\n",
       "           2830,    1503,    4467,       1,     937,       3,     231,\n",
       "           1251,     899,     146,     249,     159,    3128,     675,\n",
       "            193,    7183,     301,     490,     198,    2796,      14,\n",
       "           1845,     571,    2234,     217,     101,     914,    1163,\n",
       "           4534,    1371,     929,     399,      87,     730,    2039,\n",
       "            185,     284,     355,     141,      93,     177,       1,\n",
       "             61,     205,     659,     130,     415,     163,     174,\n",
       "             43,    1612,    1340,     319,     139,     467,     734,\n",
       "           1413,     493,    5566,     237,   18321,     612,     206,\n",
       "           1332,     733,     283,     148,    3058,   27676,    2455,\n",
       "            468,     533,     640,     228,     148,    2341,     345,\n",
       "           4140,    2680,     754,    1901,    6997,     593,     453,\n",
       "             26,     444,     429,     689,     320,    3364,    2192,\n",
       "              1,     283,     572,     810,     395,    7818,     290,\n",
       "            684,     751,     182,      31,   20508,      57,     364,\n",
       "            796,     500,      25,      34,     428,     249,    1399,\n",
       "            112,    1735,     454,    3218,      71,     512,    5163,\n",
       "              2,    2551,     573,    4313,     638,     106,     953,\n",
       "            149,   15892,    1790,      59,   12789,     113,   68418,\n",
       "             41,     161,     529,    2308,    3145,      52,     901,\n",
       "            365,     168,    1771,    3787,     941,     344,    6864,\n",
       "           1547,     643,   65365,     470,     300,      40,     211,\n",
       "             15,     530,     413,     230,     216,     183,    2025,\n",
       "             44,    2094,     358,     374,     306,     417,     119,\n",
       "            166,     476,   16416,   16099,      29,       8,     347,\n",
       "           1222,     244,     293,      76,    1680,    6921,    1834,\n",
       "            736,    1295,     400,     343,     316,      20,     168,\n",
       "            352]))"
      ]
     },
     "execution_count": 6,
     "metadata": {},
     "output_type": "execute_result"
    }
   ],
   "source": [
    "np.unique(label_proposals[:, :, 4], return_counts=True)"
   ]
  },
  {
   "cell_type": "markdown",
   "metadata": {},
   "source": [
    "**Comment:**\n",
    "This shape from ``label_proposals`` do not make sense to me. I would expect the boxes to be of shape 4 (``top_corner_x``, ``top_corner_y``, ``width`` and ``height``)"
   ]
  },
  {
   "cell_type": "code",
   "execution_count": 35,
   "metadata": {},
   "outputs": [
    {
     "data": {
      "text/plain": [
       "(31783,)"
      ]
     },
     "execution_count": 35,
     "metadata": {},
     "output_type": "execute_result"
    }
   ],
   "source": [
    "num_nms.shape"
   ]
  },
  {
   "cell_type": "code",
   "execution_count": 36,
   "metadata": {},
   "outputs": [
    {
     "data": {
      "text/plain": [
       "(array([ 0.,  1.,  2.,  3.,  4.,  5.,  6.,  7.,  8.,  9., 10., 11., 12.]),\n",
       " array([ 963, 3528, 6740, 7746, 6243, 3675, 1755,  721,  262,  100,   36,\n",
       "          11,    3]))"
      ]
     },
     "execution_count": 36,
     "metadata": {},
     "output_type": "execute_result"
    }
   ],
   "source": [
    "np.unique(num_nms, return_counts=True)"
   ]
  },
  {
   "cell_type": "markdown",
   "metadata": {},
   "source": [
    "**Comment:**\n",
    "\n",
    "This ``num_nms`` key does not make sense to me."
   ]
  },
  {
   "cell_type": "code",
   "execution_count": 43,
   "metadata": {},
   "outputs": [
    {
     "name": "stdout",
     "output_type": "stream",
     "text": [
      "5.0\n",
      "[[2.72859894e+02 1.33874573e+02 3.25096161e+02 1.80312027e+02\n",
      "  4.40000000e+02 8.37602079e-01]\n",
      " [8.67147350e+00 1.54771032e+01 3.59843170e+02 2.98991516e+02\n",
      "  1.86000000e+02 7.89850950e-01]\n",
      " [2.69622803e+02 1.67832581e+02 3.15999695e+02 2.58524994e+02\n",
      "  4.61000000e+02 7.44172394e-01]\n",
      " [3.89509654e+00 2.87387787e+02 3.39180359e+02 4.98287567e+02\n",
      "  3.56000000e+02 6.23180449e-01]\n",
      " [0.00000000e+00 2.30288498e+02 3.65519348e+02 3.19840759e+02\n",
      "  3.10000000e+01 5.14683306e-01]\n",
      " [2.66956268e+02 1.13806534e+02 3.34795410e+02 2.85649872e+02\n",
      "  2.79000000e+02 4.99929726e-01]\n",
      " [0.00000000e+00 2.28052490e+02 3.64980743e+02 3.60301971e+02\n",
      "  3.20000000e+01 4.19547021e-01]\n",
      " [2.71375885e+01 1.05041876e+01 3.57539673e+02 3.01867371e+02\n",
      "  1.86000000e+02 5.22527039e-01]\n",
      " [8.20504761e+01 2.63206757e+02 1.11961182e+02 3.50484650e+02\n",
      "  2.73000000e+02 2.81302631e-01]\n",
      " [2.55998505e+02 2.75432037e+02 2.98592560e+02 3.55666382e+02\n",
      "  3.55000000e+02 2.11853459e-01]\n",
      " [1.07329235e+01 2.03085556e+02 1.11741882e+02 2.61719238e+02\n",
      "  1.86000000e+02 1.79920048e-01]\n",
      " [8.33071823e+01 2.64168060e+02 1.10273209e+02 3.48889679e+02\n",
      "  2.79000000e+02 1.54441863e-01]\n",
      " [2.65577362e+02 1.21037941e+02 3.35044708e+02 2.67600433e+02\n",
      "  2.79000000e+02 4.47029144e-01]\n",
      " [8.29072266e+01 2.65033691e+02 1.12331871e+02 3.49310394e+02\n",
      "  2.73000000e+02 2.03841880e-01]\n",
      " [2.08393860e+02 2.38416107e+02 2.32573853e+02 3.19080109e+02\n",
      "  3.20000000e+01 1.35760307e-01]\n",
      " [8.37769012e+01 2.79935455e+02 1.09887329e+02 3.45797241e+02\n",
      "  4.61000000e+02 1.35684922e-01]\n",
      " [3.46537094e+01 2.34508560e+02 3.55355774e+02 3.18551453e+02\n",
      "  3.10000000e+01 2.74425626e-01]\n",
      " [6.45339441e+00 2.95434296e+02 3.67918213e+02 4.97925598e+02\n",
      "  3.56000000e+02 3.75143379e-01]\n",
      " [6.47790623e+00 2.32376419e+02 1.31577927e+02 3.28191162e+02\n",
      "  3.20000000e+01 1.07644007e-01]\n",
      " [2.39975429e+00 2.31202576e+02 3.52629639e+02 3.18589661e+02\n",
      "  3.10000000e+01 2.43270069e-01]\n",
      " [2.63985107e+02 1.13302979e+02 3.35920319e+02 2.98153351e+02\n",
      "  2.79000000e+02 4.01747018e-01]\n",
      " [2.55403495e+00 2.43697830e+02 3.55056122e+02 3.15316956e+02\n",
      "  3.10000000e+01 2.50075251e-01]\n",
      " [2.66638641e+02 1.27380630e+02 3.29555298e+02 2.54545364e+02\n",
      "  4.61000000e+02 2.66780287e-01]\n",
      " [2.06170044e+02 2.37875397e+02 2.34521240e+02 3.17869690e+02\n",
      "  3.20000000e+01 1.20737165e-01]\n",
      " [0.00000000e+00 2.98382843e+02 3.67413940e+02 4.93296844e+02\n",
      "  3.56000000e+02 4.41825807e-01]\n",
      " [2.72518036e+02 1.32328430e+02 3.22322205e+02 1.80797806e+02\n",
      "  4.40000000e+02 7.79510796e-01]\n",
      " [0.00000000e+00 2.88851990e+02 3.57356232e+02 4.95091644e+02\n",
      "  3.56000000e+02 4.62615877e-01]\n",
      " [2.59233337e+02 2.68893402e+02 2.98900421e+02 3.52621674e+02\n",
      "  3.55000000e+02 4.99692671e-02]\n",
      " [1.42653336e+02 1.42104568e+01 1.91499100e+02 2.89987732e+02\n",
      "  1.86000000e+02 1.10070622e-02]\n",
      " [1.28981628e+01 2.91953583e+02 3.55501129e+02 4.95708649e+02\n",
      "  3.56000000e+02 5.25480509e-01]\n",
      " [2.52524033e+01 5.67069006e+00 3.42765350e+02 3.04866486e+02\n",
      "  1.86000000e+02 6.61780536e-01]\n",
      " [0.00000000e+00 1.83992996e+02 3.43058777e+02 3.31567871e+02\n",
      "  3.20000000e+01 8.46759379e-02]\n",
      " [2.70508606e+02 1.79542023e+02 3.00913910e+02 3.14530579e+02\n",
      "  4.61000000e+02 5.62822111e-02]\n",
      " [1.37044312e+02 1.00305595e+01 2.13848297e+02 2.79717285e+02\n",
      "  1.86000000e+02 1.30761964e-02]\n",
      " [9.98425770e+00 4.48305359e+02 8.03189926e+01 4.99687469e+02\n",
      "  3.20000000e+01 4.49592946e-03]\n",
      " [9.87458115e+01 2.66066864e+02 2.43489456e+02 3.11595795e+02\n",
      "  3.44000000e+02 1.19576873e-02]\n",
      " [0.00000000e+00 0.00000000e+00 0.00000000e+00 0.00000000e+00\n",
      "  0.00000000e+00 0.00000000e+00]]\n"
     ]
    }
   ],
   "source": [
    "first_pps = label_proposals[4]\n",
    "first_nms = num_nms[4]\n",
    "print(first_nms)\n",
    "print(first_pps[:37]) # THERE ARE ALWAYS 36 DETECTIONS ??? WHY IS NMS EVEN HERE ???"
   ]
  },
  {
   "cell_type": "code",
   "execution_count": 55,
   "metadata": {},
   "outputs": [
    {
     "data": {
      "text/plain": [
       "(array([ 0,  1,  2,  3,  4,  7, 25, 29, 30]),)"
      ]
     },
     "execution_count": 55,
     "metadata": {},
     "output_type": "execute_result"
    }
   ],
   "source": [
    "idx = np.where(first_pps[:, -1] > 0.5) # the confidence is higher!\n",
    "idx\n",
    "#first_pps[idx]"
   ]
  },
  {
   "cell_type": "markdown",
   "metadata": {},
   "source": [
    "* To my understanding, the last field in ``label_proposals`` might be the class detection threshold (0.5 in the paper). Here they only take the first 4 proposals since they have an IoU that is higher than 0.5 (however I have seen seen some that are above that threshold but somehow order below ...\n",
    "\n",
    "* For some reasons, the 4 first field in ``label_proposals`` are floats while the 5th is clearly an ``int`` casted into a float. It is not clear what is expresses. I believe the first 4 fields are the (``x_min, y_min, x_max, y_max``) that are a result of the regression process. The 5th field corresponds to the class label.\n",
    "\n",
    "* I have reasons to believe that the ``nms_num`` field could be replace by using the 0.5 threshold as done in the cell above."
   ]
  },
  {
   "cell_type": "markdown",
   "metadata": {},
   "source": [
    "**TODO:**\n",
    "\n",
    "* Assess how this is used in the ``Dataloader`` file.\n",
    "\n",
    "* How are the ``confidence`` field used in the DataLoader file. IT IS NOT USED it seems!\n",
    "\n",
    "* How is the ``class`` field used in the DataLoader file. IT IS NOT USED it seems!\n",
    "\n",
    "* Note: we can modify the ``seq_per_img`` field since we are not during training."
   ]
  },
  {
   "cell_type": "markdown",
   "metadata": {},
   "source": [
    "``__init__``"
   ]
  },
  {
   "cell_type": "code",
   "execution_count": null,
   "metadata": {},
   "outputs": [],
   "source": [
    "# open the detection json file.\n",
    "print('DataLoader loading proposal file: ', opt.proposal_h5)\n",
    "h5_proposal_file = h5py.File(self.opt.proposal_h5, 'r', driver='core')\n",
    "self.num_proposals = h5_proposal_file['dets_num'][:]\n",
    "#self.label_proposals = h5_proposal_file['dets_labels'][:]\n",
    "self.label_proposals = h5_proposal_file['dets_labels'][:]\n",
    "self.num_nms = h5_proposal_file['nms_num'][:]\n",
    "h5_proposal_file.close()"
   ]
  },
  {
   "cell_type": "markdown",
   "metadata": {},
   "source": [
    "``__getitem__``"
   ]
  },
  {
   "cell_type": "code",
   "execution_count": null,
   "metadata": {},
   "outputs": [],
   "source": [
    "# load the proposal file\n",
    "# proposal_file = self.proposal_file[image_id]\n",
    "num_proposal = int(self.num_proposals[ix]) # THIS IS NO LONGER USED\n",
    "num_nms = int(self.num_nms[ix])\n",
    "proposals = self.label_proposals[ix]\n",
    "proposals = proposals[:num_nms,:] # THIS IS USED TO SELECT ONLY A SUBSET OF THE PROPOSALS"
   ]
  },
  {
   "cell_type": "code",
   "execution_count": null,
   "metadata": {},
   "outputs": [],
   "source": [
    "# resize the gt_bboxs and proposals.\n",
    "if self.split == 'train':\n",
    "    # resize the gt_bboxs and proposals.\n",
    "    proposals = utils.resize_bbox(proposals, width, height, self.opt.image_size, self.opt.image_size)\n",
    "    gt_bboxs = utils.resize_bbox(gt_bboxs, width, height, self.opt.image_size, self.opt.image_size)\n",
    "else:\n",
    "    proposals = utils.resize_bbox(proposals, width, height, self.opt.image_crop_size, self.opt.image_crop_size)\n",
    "    gt_bboxs = utils.resize_bbox(gt_bboxs, width, height, self.opt.image_crop_size, self.opt.image_crop_size)  # We could remove that!\n",
    "    \n",
    "# crop the image and the bounding box. \n",
    "img, proposals, gt_bboxs = self.RandomCropWithBbox(img, proposals, gt_bboxs) # We have to find a way not to use gt_bboxs here"
   ]
  },
  {
   "cell_type": "code",
   "execution_count": null,
   "metadata": {},
   "outputs": [],
   "source": [
    "# padding the proposals and gt_bboxs\n",
    "pad_proposals = np.zeros((self.max_proposal, 6))\n",
    "pad_gt_bboxs = np.zeros((self.max_gt_box, 5)) # Who care\n",
    "pad_box_mask = np.ones((self.seq_per_img, self.max_gt_box, self.seq_length+1)) # Who care\n",
    "\n",
    "if self.opt.det_oracle == False:\n",
    "    num_pps = min(proposals.shape[0], self.max_proposal) \n",
    "    num_box = min(gt_bboxs.shape[0], self.max_gt_box # Who cares\n",
    "\n",
    "    pad_proposals[:num_pps] = proposals[:num_pps]\n",
    "    pad_gt_bboxs[:num_box] = gt_bboxs[:num_box] # Who cares\n",
    "    pad_box_mask[:,:num_box,1:] = mask_batch[:,:num_box,:] # Who cares\n",
    "else:\n",
    "    num_pps = min(gt_bboxs.shape[0], self.max_proposal)\n",
    "    pad_proposals[:num_pps] = np.concatenate((gt_bboxs[:num_pps], np.ones([num_pps,1])),axis=1)\n",
    "    num_box = min(gt_bboxs.shape[0], self.max_gt_box)\n",
    "    pad_gt_bboxs[:num_box] = gt_bboxs[:num_box]\n",
    "    pad_box_mask[:,:num_box,1:] = mask_batch[:,:num_box,:]\n",
    "\n",
    "\n",
    "input_seq = torch.from_numpy(input_seq).long()\n",
    "gt_seq = torch.from_numpy(gt_seq).long() # Who cares??? Actually we might care...\n",
    "pad_proposals = torch.from_numpy(pad_proposals).float()\n",
    "pad_box_mask = torch.from_numpy(pad_box_mask).byte() # Who cares\n",
    "pad_gt_bboxs = torch.from_numpy(pad_gt_bboxs).float() # Who cares\n",
    "num = torch.FloatTensor([ncap, num_pps, num_box]) # Find a way to remove num_box\n",
    "\n",
    "\n",
    "if self.opt.cnn_backend == 'vgg16':\n",
    "    img = np.array(img, dtype='float32')\n",
    "    img = img[:,:,::-1].copy() # RGB --> BGR\n",
    "    img -= self.vgg_pixel_mean\n",
    "    img = torch.from_numpy(img)\n",
    "    img = img.permute(2, 0, 1).contiguous()\n",
    "else:\n",
    "    img = self.ToTensor(img)\n",
    "    img = self.res_Normalize(img)\n",
    "\n",
    "return img, input_seq, gt_seq, num, pad_proposals, pad_gt_bboxs, pad_box_mask, image_id # gt_seq, pad_gt_bboxs, pad_box_mask must be None here"
   ]
  },
  {
   "cell_type": "markdown",
   "metadata": {},
   "source": [
    "## Random here"
   ]
  },
  {
   "cell_type": "code",
   "execution_count": 2,
   "metadata": {},
   "outputs": [
    {
     "data": {
      "text/plain": [
       "857"
      ]
     },
     "execution_count": 2,
     "metadata": {},
     "output_type": "execute_result"
    }
   ],
   "source": [
    "wtoi = {\"UNK\": 857}\n",
    "\n",
    "wtoi.get(\"grey\", wtoi[\"UNK\"])"
   ]
  },
  {
   "cell_type": "code",
   "execution_count": null,
   "metadata": {},
   "outputs": [],
   "source": []
  }
 ],
 "metadata": {
  "kernelspec": {
   "display_name": "recvisp2",
   "language": "python",
   "name": "recvisp2"
  },
  "language_info": {
   "codemirror_mode": {
    "name": "ipython",
    "version": 2
   },
   "file_extension": ".py",
   "mimetype": "text/x-python",
   "name": "python",
   "nbconvert_exporter": "python",
   "pygments_lexer": "ipython2",
   "version": "2.7.15"
  }
 },
 "nbformat": 4,
 "nbformat_minor": 2
}
