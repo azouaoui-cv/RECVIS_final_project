{
 "cells": [
  {
   "cell_type": "markdown",
   "metadata": {},
   "source": [
    "# Scratchbook\n",
    "\n",
    "* My goal is to understand what is inside the ``.mat`` files from J. Peyre."
   ]
  },
  {
   "cell_type": "code",
   "execution_count": 2,
   "metadata": {},
   "outputs": [],
   "source": [
    "import os\n",
    "import scipy.io"
   ]
  },
  {
   "cell_type": "code",
   "execution_count": 7,
   "metadata": {},
   "outputs": [],
   "source": [
    "CWD = os.getcwd()\n",
    "data_dir = os.path.join(CWD, \"data\", \"unrel_dataset\")\n",
    "\n",
    "mat = scipy.io.loadmat(os.path.join(data_dir, \"annotated_triplets.mat\"))"
   ]
  },
  {
   "cell_type": "code",
   "execution_count": 29,
   "metadata": {},
   "outputs": [
    {
     "name": "stdout",
     "output_type": "stream",
     "text": [
      "There are 41 categories\n"
     ]
    }
   ],
   "source": [
    "unrel_categories = list()\n",
    "\n",
    "for arr in mat[\"triplets\"]:\n",
    "    words = arr[0][0].split(\"-\")\n",
    "    for i, word in enumerate(words):\n",
    "        if not word in unrel_categories and i != 1:\n",
    "            unrel_categories.append(word)\n",
    "print(f\"There are {len(unrel_categories)} categories\")"
   ]
  },
  {
   "cell_type": "code",
   "execution_count": 16,
   "metadata": {},
   "outputs": [],
   "source": [
    "coco_categories = [\"person\",\n",
    "                   \"bicycle\", \n",
    "                   \"car\",\n",
    "                   \"motorcycle\",\n",
    "                   \"airplane\",\n",
    "                   \"bus\",\n",
    "                   \"train\",\n",
    "                   \"truck\",\n",
    "                   \"boat\",\n",
    "                   \"traffic light\",\n",
    "                   \"fire hydrant\", \n",
    "                   \"stop sign\", \n",
    "                   \"parking meter\",\n",
    "                   \"bench\",\n",
    "                   \"cat\",\n",
    "                   \"dog\",\n",
    "                   \"horse\",\n",
    "                   \"sheep\",\n",
    "                   \"cow\", \n",
    "                   \"elephant\",\n",
    "                   \"bear\",\n",
    "                   \"zebra\",\n",
    "                   \"giraffe\",\n",
    "                   \"backpack\",\n",
    "                   \"umbrella\",\n",
    "                   \"handbag\",\n",
    "                   \"tie\", \n",
    "                   \"suitcase\",\n",
    "                   \"frisbee\",\n",
    "                   \"skis\",\n",
    "                   \"snowboard\",\n",
    "                   \"sports ball\",\n",
    "                   \"kite\",\n",
    "                   \"baseball bat\",\n",
    "                   \"baseball glove\",\n",
    "                   \"skateboard\", \n",
    "                   \"surfboard\",\n",
    "                   \"tennis racket\",\n",
    "                   \"bottle\",\n",
    "                   \"wine glass\",\n",
    "                   \"cup\",\n",
    "                   \"fork\",\n",
    "                   \"knife\",\n",
    "                   \"spoon\",\n",
    "                   \"bowl\",\n",
    "                   \"banana\",\n",
    "                   \"apple\",\n",
    "                   \"sandwich\",\n",
    "                   \"orange\",\n",
    "                   \"broccoli\",\n",
    "                   \"carrot\",\n",
    "                   \"hot dog\",\n",
    "                   \"pizza\",\n",
    "                   \"donut\",\n",
    "                   \"cake\",\n",
    "                   \"bird\",\n",
    "                   \"chair\",\n",
    "                   \"couch\",\n",
    "                   \"potted plant\",\n",
    "                   \"bed\",\n",
    "                   \"dining table\",\n",
    "                   \"toilet\",\n",
    "                   \"tv\",\n",
    "                   \"laptop\",\n",
    "                   \"mouse\",\n",
    "                   \"remote\",\n",
    "                   \"keyboard\",\n",
    "                   \"cell phone\",\n",
    "                   \"sink\",\n",
    "                   \"refrigerator\",\n",
    "                   \"book\",\n",
    "                   \"clock\",\n",
    "                   \"vase\",\n",
    "                   \"scissors\",\n",
    "                   \"teddy bear\",\n",
    "                   \"hair drier\",\n",
    "                   \"toothbrush\",]"
   ]
  },
  {
   "cell_type": "code",
   "execution_count": 31,
   "metadata": {},
   "outputs": [
    {
     "name": "stdout",
     "output_type": "stream",
     "text": [
      "bike\n",
      "building\n",
      "wheel\n",
      "road\n",
      "tree\n",
      "roof\n",
      "cone\n",
      "hat\n",
      "helmet\n",
      "pants\n",
      "shirt\n",
      "shoes\n",
      "sunglasses\n",
      "glasses\n",
      "sofa\n",
      "plane\n",
      "cart\n",
      "box\n",
      "jacket\n",
      "table\n"
     ]
    }
   ],
   "source": [
    "for word in unrel_categories:\n",
    "    if not word in coco_categories:\n",
    "        print(word)"
   ]
  }
 ],
 "metadata": {
  "kernelspec": {
   "display_name": "mva",
   "language": "python",
   "name": "mva"
  },
  "language_info": {
   "codemirror_mode": {
    "name": "ipython",
    "version": 3
   },
   "file_extension": ".py",
   "mimetype": "text/x-python",
   "name": "python",
   "nbconvert_exporter": "python",
   "pygments_lexer": "ipython3",
   "version": "3.7.1"
  }
 },
 "nbformat": 4,
 "nbformat_minor": 2
}
